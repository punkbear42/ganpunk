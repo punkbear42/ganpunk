{
 "cells": [
  {
   "cell_type": "markdown",
   "metadata": {},
   "source": [
    "Create a dataset of punks by gender\n",
    "Downloaded metadata from: https://github.com/cryptopunksnotdead/punks.attributes/tree/master/original into metadata/\n",
    "This notebook should be idempotent.\n",
    "This notebook assumes the punk files are in punks/ "
   ]
  },
  {
   "cell_type": "code",
   "execution_count": 17,
   "metadata": {},
   "outputs": [],
   "source": [
    "import os\n",
    "import shutil\n",
    "\n",
    "os.makedirs(os.path.join('punks-by-gender',\n",
    "                         'female'), exist_ok=True)\n",
    "os.makedirs(os.path.join('punks-by-gender',\n",
    "                         'male'), exist_ok=True)"
   ]
  },
  {
   "cell_type": "code",
   "execution_count": 21,
   "metadata": {},
   "outputs": [],
   "source": [
    "import pandas as pd\n",
    "\n",
    "for i in range(0, 10):  # there are 10 metadata CSVs\n",
    "    df = pd.read_csv(f'metadata/{i*1000}-{i*1000 + 1000 - 1}.csv')\n",
    "    for _, row in df.iterrows():\n",
    "        if row[' type'].strip() == 'Human':\n",
    "            gender = row[' gender'].strip()\n",
    "            id_ = row['id']\n",
    "            \n",
    "            punk_file = f'punk_{id_}.png'\n",
    "            \n",
    "            from_ = os.path.join('punks', punk_file)\n",
    "            to_ = os.path.join('punks-by-gender', gender.lower(), punk_file)\n",
    "            \n",
    "            shutil.copyfile(from_, to_)"
   ]
  }
 ],
 "metadata": {
  "kernelspec": {
   "display_name": "Python 3",
   "language": "python",
   "name": "python3"
  },
  "language_info": {
   "codemirror_mode": {
    "name": "ipython",
    "version": 3
   },
   "file_extension": ".py",
   "mimetype": "text/x-python",
   "name": "python",
   "nbconvert_exporter": "python",
   "pygments_lexer": "ipython3",
   "version": "3.6.9"
  }
 },
 "nbformat": 4,
 "nbformat_minor": 4
}
