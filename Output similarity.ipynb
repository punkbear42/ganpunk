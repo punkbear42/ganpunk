{
 "cells": [
  {
   "cell_type": "markdown",
   "metadata": {},
   "source": [
    "Try to see how similar the output of the GAN is with respect to the ground truth, to see if the model is overfitted or underfitted.\n",
    "GANs are hard to evaluate in general -> https://stats.stackexchange.com/questions/482653/what-is-the-stop-criteria-of-generative-adversarial-nets"
   ]
  },
  {
   "cell_type": "code",
   "execution_count": null,
   "metadata": {},
   "outputs": [],
   "source": [
    "import os\n",
    "import glob\n",
    "\n",
    "from PIL import Image\n",
    "# https://pypi.org/project/ImageHash/\n",
    "import imagehash\n",
    "\n",
    "from matplotlib import pyplot as plt"
   ]
  },
  {
   "cell_type": "code",
   "execution_count": 2,
   "metadata": {},
   "outputs": [],
   "source": [
    "def hash_image(img_path: str, method: str = 'average') -> str:\n",
    "    # implement the hashing methods of choice here\n",
    "    img = Image.open(img_path)\n",
    "    if method == 'average':\n",
    "        hash_ = imagehash.average_hash(img)\n",
    "    else:\n",
    "        raise ValueError(f'Unknown method: {method}')\n",
    "    img.close()\n",
    "    \n",
    "    return str(hash_)  # important! return the string version of it"
   ]
  },
  {
   "cell_type": "code",
   "execution_count": 3,
   "metadata": {},
   "outputs": [],
   "source": [
    "def get_all_punk_files(punks_folder: str, glob_by: str='punk*.png') -> list:\n",
    "    return glob.glob(os.path.join(punks_folder, glob_by))"
   ]
  },
  {
   "cell_type": "code",
   "execution_count": 4,
   "metadata": {},
   "outputs": [],
   "source": [
    "def hash_ground_truth(punks_folder: str, method: str = 'average') -> dict:\n",
    "    ground_truth = {}\n",
    "    for punk_file in get_all_punk_files(punks_folder):\n",
    "        h_ = hash_image(punk_file)\n",
    "        if h_ in ground_truth:\n",
    "            # print(f'Hash collision! {punk_file} with {ground_truth[h_]}')\n",
    "            pass\n",
    "        else:\n",
    "            ground_truth[h_] = []\n",
    "        ground_truth[h_].append(punk_file)\n",
    "    return ground_truth"
   ]
  },
  {
   "cell_type": "code",
   "execution_count": 5,
   "metadata": {},
   "outputs": [],
   "source": [
    "punks_folder = './punks'\n",
    "method = 'average'\n",
    "\n",
    "gt = hash_ground_truth(punks_folder, method)"
   ]
  },
  {
   "cell_type": "markdown",
   "metadata": {},
   "source": [
    "If the following number is too low then the hashing technique might be too aggressive..."
   ]
  },
  {
   "cell_type": "code",
   "execution_count": 6,
   "metadata": {},
   "outputs": [
    {
     "name": "stdout",
     "output_type": "stream",
     "text": [
      "There are 1644 buckets in the ground truth of 10000 punks\n"
     ]
    }
   ],
   "source": [
    "print(f'There are {len(gt)} buckets in the ground truth of '\n",
    "      f'{len(get_all_punk_files(punks_folder))} punks')"
   ]
  },
  {
   "cell_type": "code",
   "execution_count": 7,
   "metadata": {},
   "outputs": [],
   "source": [
    "# check if hashing actually works\n",
    "# poor man's unit test here:\n",
    "punk_1 = os.path.join(punks_folder, 'punk_1.png')\n",
    "\n",
    "assert punk_1 in gt[hash_image(punk_1)]"
   ]
  },
  {
   "cell_type": "markdown",
   "metadata": {},
   "source": [
    "## View some ground truth buckets\n",
    "\n",
    "To validate that the hashing technique works, view some original punks grouped by hash. This will show a different output everytime. In randomly picks a bucket where there is more than one punk."
   ]
  },
  {
   "cell_type": "code",
   "execution_count": 8,
   "metadata": {},
   "outputs": [
    {
     "data": {
      "image/png": "[encoded data removed]",
      "text/plain": [
       "<PIL.Image.Image image mode=P size=32x32 at 0x7F0FB238D8D0>"
      ]
     },
     "metadata": {},
     "output_type": "display_data"
    },
    {
     "data": {
      "image/png": "[encoded data removed]",
      "text/plain": [
       "<PIL.Image.Image image mode=P size=32x32 at 0x7F0FC01CAEB8>"
      ]
     },
     "metadata": {},
     "output_type": "display_data"
    },
    {
     "data": {
      "image/png": "[encoded data removed]",
      "text/plain": [
       "<PIL.Image.Image image mode=P size=32x32 at 0x7F0FC01CAEB8>"
      ]
     },
     "metadata": {},
     "output_type": "display_data"
    },
    {
     "data": {
      "image/png": "[encoded data removed]",
      "text/plain": [
       "<PIL.Image.Image image mode=P size=32x32 at 0x7F0FC01CAEB8>"
      ]
     },
     "metadata": {},
     "output_type": "display_data"
    }
   ],
   "source": [
    "import random\n",
    "\n",
    "for punk in gt[random.choice(list(key for key in gt.keys()\n",
    "                                  if len(gt[key]) > 1))]:\n",
    "    img = Image.open(punk)\n",
    "    img = img.resize((32, 32))\n",
    "    display(img)"
   ]
  },
  {
   "cell_type": "markdown",
   "metadata": {},
   "source": [
    "## Check if the output punks are actually new or belong to one ground truth bucket"
   ]
  },
  {
   "cell_type": "code",
   "execution_count": 14,
   "metadata": {},
   "outputs": [
    {
     "name": "stdout",
     "output_type": "stream",
     "text": [
      "Number of new punks in output folder: 23, number of collisions: 77\n"
     ]
    }
   ],
   "source": [
    "output_older = './my_out'  # generate with model/generate_punks.py\n",
    "\n",
    "n_collisions = 0\n",
    "n_new = 0\n",
    "new_punk_files = []\n",
    "\n",
    "gt_key_distro = list(sorted(gt.keys()))\n",
    "collisions_distro = []\n",
    "\n",
    "for punk_file in get_all_punk_files(output_older, 'result*png'):\n",
    "    h_ = hash_image(punk_file)\n",
    "    if h_ in gt:\n",
    "        n_collisions += 1\n",
    "        collisions_distro.append(gt_key_distro.index(h_))\n",
    "    else:\n",
    "        n_new += 1\n",
    "        new_punk_files.append(punk_file)\n",
    "        \n",
    "print(f'Number of new punks in output folder: {n_new}, number of collisions: {n_collisions}')"
   ]
  },
  {
   "cell_type": "code",
   "execution_count": 25,
   "metadata": {},
   "outputs": [
    {
     "data": {
      "image/png": "[encoded data removed]",
      "text/plain": [
       "<Figure size 432x288 with 1 Axes>"
      ]
     },
     "metadata": {},
     "output_type": "display_data"
    }
   ],
   "source": [
    "labels = ['Similar', 'New']\n",
    "data = [int(n_collisions), int(n_new)]\n",
    "  \n",
    "fig = plt.figure()\n",
    "plt.pie(x=data, labels=labels)\n",
    "\n",
    "plt.show()"
   ]
  },
  {
   "cell_type": "markdown",
   "metadata": {},
   "source": [
    "If the histogram below is not more or less flat then it might mean that the network learned only some types of punks ->"
   ]
  },
  {
   "cell_type": "code",
   "execution_count": 26,
   "metadata": {},
   "outputs": [
    {
     "data": {
      "image/png": "[encoded data removed]",
      "text/plain": [
       "<Figure size 432x288 with 1 Axes>"
      ]
     },
     "metadata": {
      "needs_background": "light"
     },
     "output_type": "display_data"
    }
   ],
   "source": [
    "plt.hist(collisions_distro, 20,\n",
    "         density=True,\n",
    "         histtype='bar',\n",
    "         facecolor='b',\n",
    "         alpha=0.5)\n",
    "\n",
    "plt.show()"
   ]
  },
  {
   "cell_type": "markdown",
   "metadata": {},
   "source": [
    "## View new punks"
   ]
  },
  {
   "cell_type": "markdown",
   "metadata": {},
   "source": [
    "New punks should look cool and nice, otherwise if they are new because they are too noisy then it might mean that the model did not converge yet (it needs more epochs?)\n",
    "Running this cell produces random output everytime ->"
   ]
  },
  {
   "cell_type": "code",
   "execution_count": 27,
   "metadata": {},
   "outputs": [
    {
     "data": {
      "image/png": "[encoded data removed]",
      "text/plain": [
       "<PIL.Image.Image image mode=RGBA size=32x32 at 0x7F0FAEA21B00>"
      ]
     },
     "metadata": {},
     "output_type": "display_data"
    },
    {
     "data": {
      "image/png": "[encoded data removed]",
      "text/plain": [
       "<PIL.Image.Image image mode=RGBA size=32x32 at 0x7F0FE1236F60>"
      ]
     },
     "metadata": {},
     "output_type": "display_data"
    },
    {
     "data": {
      "image/png": "[encoded data removed]",
      "text/plain": [
       "<PIL.Image.Image image mode=RGBA size=32x32 at 0x7F0FAE81FA20>"
      ]
     },
     "metadata": {},
     "output_type": "display_data"
    },
    {
     "data": {
      "image/png": "[encoded data removed]",
      "text/plain": [
       "<PIL.Image.Image image mode=RGBA size=32x32 at 0x7F0FAE828160>"
      ]
     },
     "metadata": {},
     "output_type": "display_data"
    },
    {
     "data": {
      "image/png": "[encoded data removed]",
      "text/plain": [
       "<PIL.Image.Image image mode=RGBA size=32x32 at 0x7F0FE1236F60>"
      ]
     },
     "metadata": {},
     "output_type": "display_data"
    }
   ],
   "source": [
    "for new_punk in random.sample(new_punk_files, 5):\n",
    "    img = Image.open(new_punk)\n",
    "    img = img.resize((32, 32))\n",
    "    display(img)"
   ]
  },
  {
   "cell_type": "code",
   "execution_count": null,
   "metadata": {},
   "outputs": [],
   "source": []
  }
 ],
 "metadata": {
  "kernelspec": {
   "display_name": "Python 3",
   "language": "python",
   "name": "python3"
  },
  "language_info": {
   "codemirror_mode": {
    "name": "ipython",
    "version": 3
   },
   "file_extension": ".py",
   "mimetype": "text/x-python",
   "name": "python",
   "nbconvert_exporter": "python",
   "pygments_lexer": "ipython3",
   "version": "3.6.9"
  }
 },
 "nbformat": 4,
 "nbformat_minor": 4
}
