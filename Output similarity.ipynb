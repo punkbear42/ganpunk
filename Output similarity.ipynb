{
 "cells": [
  {
   "cell_type": "markdown",
   "metadata": {},
   "source": [
    "Try to see how similar the output of the GAN is with respect to the ground truth, to see if the model is overfitted."
   ]
  },
  {
   "cell_type": "code",
   "execution_count": 3,
   "metadata": {},
   "outputs": [],
   "source": [
    "import os\n",
    "import glob\n",
    "\n",
    "from PIL import Image\n",
    "# https://pypi.org/project/ImageHash/\n",
    "import imagehash"
   ]
  },
  {
   "cell_type": "code",
   "execution_count": 27,
   "metadata": {},
   "outputs": [],
   "source": [
    "def hash_image(img_path: str, method: str = 'average') -> str:\n",
    "    # implement the hashing methods of choice here\n",
    "    img = Image.open(img_path)\n",
    "    if method == 'average':\n",
    "        hash_ = imagehash.average_hash(img)\n",
    "    else:\n",
    "        raise ValueError(f'Unknown method: {method}')\n",
    "    img.close()\n",
    "    \n",
    "    return str(hash_)  # important! return the string version of it"
   ]
  },
  {
   "cell_type": "code",
   "execution_count": 43,
   "metadata": {},
   "outputs": [],
   "source": [
    "def get_all_punk_files(punks_folder: str, glob_by: str='punk*.png') -> list:\n",
    "    return glob.glob(os.path.join(punks_folder, glob_by))"
   ]
  },
  {
   "cell_type": "code",
   "execution_count": 37,
   "metadata": {},
   "outputs": [],
   "source": [
    "def hash_ground_truth(punks_folder: str, method: str = 'average'):\n",
    "    ground_truth = {}\n",
    "    for punk_file in get_all_punk_files(punks_folder):\n",
    "        h_ = hash_image(punk_file)\n",
    "        if h_ in ground_truth:\n",
    "            # print(f'Hash collision! {punk_file} with {ground_truth[h_]}')\n",
    "            pass\n",
    "        else:\n",
    "            ground_truth[h_] = []\n",
    "        ground_truth[h_].append(punk_file)\n",
    "    return ground_truth"
   ]
  },
  {
   "cell_type": "code",
   "execution_count": 38,
   "metadata": {},
   "outputs": [],
   "source": [
    "punks_folder = './punks'\n",
    "\n",
    "gt_avg = hash_ground_truth(punks_folder)"
   ]
  },
  {
   "cell_type": "markdown",
   "metadata": {},
   "source": [
    "If the following number is too low then the hashing technique might be too aggressive..."
   ]
  },
  {
   "cell_type": "code",
   "execution_count": 46,
   "metadata": {},
   "outputs": [
    {
     "name": "stdout",
     "output_type": "stream",
     "text": [
      "There are 1644 buckets in the ground truth of  10000 punks\n"
     ]
    }
   ],
   "source": [
    "print(f'There are {len(gt_avg)} buckets in the ground truth of '\n",
    "      f' {len(get_all_punk_files(punks_folder))} punks')"
   ]
  },
  {
   "cell_type": "code",
   "execution_count": 40,
   "metadata": {},
   "outputs": [],
   "source": [
    "# check if hashing actually works\n",
    "# poor man's unit test here:\n",
    "punk_1 = os.path.join(punks_folder, 'punk_1.png')\n",
    "\n",
    "assert punk_1 in gt_avg[hash_image(punk_1)]"
   ]
  },
  {
   "cell_type": "markdown",
   "metadata": {},
   "source": [
    "## Check if the output punks are actually new or belong to one ground truth bucket"
   ]
  },
  {
   "cell_type": "code",
   "execution_count": 47,
   "metadata": {},
   "outputs": [
    {
     "name": "stdout",
     "output_type": "stream",
     "text": [
      "Number of new punks in output folder: 31, number of collisions: 69\n"
     ]
    }
   ],
   "source": [
    "output_older = './my_out'  # generate with model/generate_punks.py\n",
    "\n",
    "n_collisions = 0\n",
    "n_new = 0\n",
    "new_punk_files = []\n",
    "\n",
    "for punk_file in get_all_punk_files(output_older, 'result*png'):\n",
    "    h_ = hash_image(punk_file)\n",
    "    if h_ in gt_avg:\n",
    "        n_collisions += 1\n",
    "    else:\n",
    "        n_new += 1\n",
    "        new_punk_files.append(punk_file)\n",
    "        \n",
    "print(f'Number of new punks in output folder: {n_new}, number of collisions: {n_collisions}')"
   ]
  },
  {
   "cell_type": "markdown",
   "metadata": {},
   "source": [
    "## View new punks"
   ]
  },
  {
   "cell_type": "code",
   "execution_count": 82,
   "metadata": {},
   "outputs": [
    {
     "data": {
      "image/png": "[encoded data removed]",
      "text/plain": [
       "<Figure size 432x288 with 31 Axes>"
      ]
     },
     "metadata": {
      "needs_background": "light"
     },
     "output_type": "display_data"
    }
   ],
   "source": [
    "from matplotlib.pyplot import figure, imshow, axis\n",
    "from matplotlib.image import imread\n",
    "\n",
    "def show_images(list_of_files):\n",
    "    fig = figure()\n",
    "    number_of_files = len(list_of_files)\n",
    "\n",
    "    for i in range(number_of_files):\n",
    "        a = fig.add_subplot(1, number_of_files,i+1)\n",
    "        image = imread(list_of_files[i])\n",
    "        imshow(image, cmap='Greys_r')\n",
    "        axis('off')\n",
    "\n",
    "show_images(new_punk_files)"
   ]
  },
  {
   "cell_type": "code",
   "execution_count": null,
   "metadata": {},
   "outputs": [],
   "source": []
  }
 ],
 "metadata": {
  "kernelspec": {
   "display_name": "Python 3",
   "language": "python",
   "name": "python3"
  }
 },
 "nbformat": 4,
 "nbformat_minor": 4
}
